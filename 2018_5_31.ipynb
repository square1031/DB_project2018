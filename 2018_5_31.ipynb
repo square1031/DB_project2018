{
 "cells": [
  {
   "cell_type": "markdown",
   "metadata": {
    "slideshow": {
     "slide_type": "slide"
    }
   },
   "source": [
    "# SQLITE\n",
    "## SQLite is a relational database management system. The lite in SQLite means light weight in terms of setup, database administration, and required resource."
   ]
  },
  {
   "cell_type": "code",
   "execution_count": null,
   "metadata": {
    "slideshow": {
     "slide_type": "slide"
    }
   },
   "outputs": [],
   "source": [
    "import sqlite3\n",
    "\n",
    "conn = sqlite3.connect('./iris.db')\n",
    "cursor = conn.cursor()\n",
    "cursor.execute(\"SELECT * FROM IRIS\")\n",
    "data = cursor.fetchall()\n",
    "conn.close()\n",
    "\n",
    "for row in data:\n",
    "    print (row)"
   ]
  },
  {
   "cell_type": "code",
   "execution_count": 1,
   "metadata": {
    "slideshow": {
     "slide_type": "slide"
    }
   },
   "outputs": [],
   "source": [
    "import sqlite3"
   ]
  },
  {
   "cell_type": "markdown",
   "metadata": {
    "slideshow": {
     "slide_type": "subslide"
    }
   },
   "source": [
    "## Connection to a database\n",
    "## Once you have a Connection, you can create a Cursor object and call its execute() method to perform SQL commands"
   ]
  },
  {
   "cell_type": "code",
   "execution_count": 7,
   "metadata": {
    "scrolled": true,
    "slideshow": {
     "slide_type": "subslide"
    }
   },
   "outputs": [],
   "source": [
    "conn = sqlite3.connect('yourdb.db')\n",
    "_cursor = conn.cursor()"
   ]
  },
  {
   "cell_type": "code",
   "execution_count": 8,
   "metadata": {
    "slideshow": {
     "slide_type": "subslide"
    }
   },
   "outputs": [],
   "source": [
    "def create_table(cursor):\n",
    "    _cursor.execute('''CREATE TABLE IRIS\n",
    "                        ( ID           INTEGER   PRIMARY KEY    AUTOINCREMENT,\n",
    "                          SEPAL_LENGTH REAL                 NOT NULL,\n",
    "                          SEPAL_WIDTH  REAL                 NOT NULL,\n",
    "                          PETAL_LENGTH REAL                 NOT NULL,\n",
    "                          PETAL_WIDTH  REAL                 NOT NULL,\n",
    "                          SPECIES      CHAR(50)             NOT NULL);''')\n"
   ]
  },
  {
   "cell_type": "code",
   "execution_count": 9,
   "metadata": {
    "slideshow": {
     "slide_type": "subslide"
    }
   },
   "outputs": [],
   "source": [
    "def insert_item(sepal_length, sepal_width, petal_length, petal_width, species, cursor):\n",
    "    command = \"INSERT INTO IRIS (SEPAL_LENGTH, SEPAL_WIDTH, PETAL_LENGTH, PETAL_WIDTH, SPECIES) VALUES (%f, %f, %f, %f, \\'%s\\');\" % (sepal_length, sepal_width, petal_length, petal_width, species)\n",
    "    _cursor.execute(command)\n",
    "    \n",
    "    "
   ]
  },
  {
   "cell_type": "code",
   "execution_count": 10,
   "metadata": {
    "slideshow": {
     "slide_type": "subslide"
    }
   },
   "outputs": [],
   "source": [
    "def search_item(cursor):\n",
    "    command = \"SELECT * FROM IRIS\"\n",
    "    cursor.execute(commend)\n",
    "    data = cursor.fetchall()"
   ]
  },
  {
   "cell_type": "markdown",
   "metadata": {
    "slideshow": {
     "slide_type": "slide"
    }
   },
   "source": [
    "# Just be sure any changes have been committed or they will be lost\n",
    "## Save (commit) the changes\n",
    "## Close the connection if we are done with it"
   ]
  },
  {
   "cell_type": "code",
   "execution_count": 12,
   "metadata": {
    "slideshow": {
     "slide_type": "subslide"
    }
   },
   "outputs": [],
   "source": [
    "conn.commit()\n",
    "conn.close()"
   ]
  },
  {
   "cell_type": "markdown",
   "metadata": {
    "slideshow": {
     "slide_type": "slide"
    }
   },
   "source": [
    "# FLASK\n",
    "## Flask is a micro web framework written in Python"
   ]
  },
  {
   "cell_type": "code",
   "execution_count": 20,
   "metadata": {
    "slideshow": {
     "slide_type": "subslide"
    }
   },
   "outputs": [],
   "source": [
    "from flask import Flask\n",
    "app = Flask(__name__)\n",
    "\n",
    "@app.route(\"/\")\n",
    "def hello():\n",
    "    return \"Hello World!\"\n",
    "\n",
    "if __name__=='__main__':\n",
    "    app.run(debug=True)"
   ]
  },
  {
   "cell_type": "markdown",
   "metadata": {
    "slideshow": {
     "slide_type": "fragment"
    }
   },
   "source": [
    "## run: python app.py"
   ]
  },
  {
   "cell_type": "markdown",
   "metadata": {
    "slideshow": {
     "slide_type": "subslide"
    }
   },
   "source": [
    "## @app.route(\"your_path\")\n",
    "## def function_name():\n",
    "        do someting here\n",
    "## return "
   ]
  },
  {
   "cell_type": "code",
   "execution_count": null,
   "metadata": {
    "slideshow": {
     "slide_type": "subslide"
    }
   },
   "outputs": [],
   "source": [
    "@app.route('/index')\n",
    "def index():\n",
    "    course_name = 'DBMS'\n",
    "    output = 'This course is' + class_name\n",
    "    return output"
   ]
  },
  {
   "cell_type": "code",
   "execution_count": null,
   "metadata": {
    "slideshow": {
     "slide_type": "subslide"
    }
   },
   "outputs": [],
   "source": [
    "from flask import render_template\n",
    "\n",
    "@app.route('/example')\n",
    "def world():    \n",
    "    return render_template('hello.html')"
   ]
  },
  {
   "cell_type": "markdown",
   "metadata": {
    "slideshow": {
     "slide_type": "slide"
    }
   },
   "source": [
    "# SQL operation in Flask"
   ]
  },
  {
   "cell_type": "markdown",
   "metadata": {
    "slideshow": {
     "slide_type": "subslide"
    }
   },
   "source": [
    "## Search"
   ]
  },
  {
   "cell_type": "code",
   "execution_count": null,
   "metadata": {
    "slideshow": {
     "slide_type": "-"
    }
   },
   "outputs": [],
   "source": [
    "@app.route('/search_table')\n",
    "def search_table():\n",
    "    return render_template('search_table.html')"
   ]
  },
  {
   "cell_type": "code",
   "execution_count": null,
   "metadata": {
    "slideshow": {
     "slide_type": "subslide"
    }
   },
   "outputs": [],
   "source": [
    "@app.route('/show_table',methods=['POST'])\n",
    "def show_table():\n",
    "    if request.method == 'POST':\n",
    "        table_name = request.form.get('table_name')\n",
    "        conn = sqlite3.connect('./data.sqlite')\n",
    "        cursor = conn.cursor()\n",
    "        #insecure\n",
    "        #result = cursor.execute('SELECT * FROM %s' % (table_name,))\n",
    "        sql_result = cursor.execute( 'SELECT * FROM {}'.format(table_name))\n",
    "        final_result = sql_result.fetchall()\n",
    "        cursor.close()\n",
    "        conn.close()\n",
    "        return jsonify(final_result)"
   ]
  },
  {
   "cell_type": "raw",
   "metadata": {
    "slideshow": {
     "slide_type": "subslide"
    }
   },
   "source": [
    "'SELECT * FROM %s' % (table_name)  =>  \n",
    "'SELECT * FROM Project'\n",
    "\n",
    "if  talbe_name:  ' Project; Drop table Project '\n",
    "'SELECT * FROM Project;Drop table Project'"
   ]
  },
  {
   "cell_type": "markdown",
   "metadata": {
    "slideshow": {
     "slide_type": "slide"
    }
   },
   "source": [
    "## Insert & Delete"
   ]
  },
  {
   "cell_type": "code",
   "execution_count": null,
   "metadata": {
    "slideshow": {
     "slide_type": "-"
    }
   },
   "outputs": [],
   "source": [
    "@app.route('/data')\n",
    "def data():\n",
    "    return render_template('data.html')"
   ]
  },
  {
   "cell_type": "code",
   "execution_count": null,
   "metadata": {
    "slideshow": {
     "slide_type": "subslide"
    }
   },
   "outputs": [],
   "source": [
    "@app.route('/modify', methods=['POST'])\n",
    "def modify():\n",
    "    if request.method == 'POST':\n",
    "        table_name = request.form.get('table_name')\n",
    "        operation = request.form.get('operation')\n",
    "        conn = sqlite3.connect('./data.sqlite')\n",
    "        cursor = conn.cursor()\n",
    "        if operation == 'INSERT':\n",
    "            if table_name == 'Project':\n",
    "                PNAME = request.form.get('pro_PNAME')\n",
    "                PNUMBER = request.form.get('pro_PNUMBER')\n",
    "                PLOCATION = request.form.get('pro_PLOCATION')\n",
    "                DNUM = request.form.get('pro_DNUM')\n",
    "                #insecure\n",
    "                #sql = cursor.execute('INSERT INTO WORKS_ON (PNAME, PNNUMBER, PLOCATION, DNUM) VALUES (%s, %s, %s);' % (PNAME, PNUMBER, PLOCATION, DNUM))\n",
    "                sql = 'INSERT INTO Project (PANME, PNUMBER, PLOCATION, DNUM) VALUES (?, ?, ?, ?);'\n",
    "                cursor.execute(sql, (PNAME, PNUMBER, PLOCATION, DNUM))\n",
    "            elif table_name == 'WORKS_ON':\n",
    "                ESSN = request.form.get('work_ESSN')\n",
    "                PNO = request.form.get('work_PNO')\n",
    "                HOURS = request.form.get('work_HOURS')\n",
    "                sql = 'INSERT INTO WORKS_ON (ESSN, PNO, HOURS) VALUES (?, ?, ?);'\n",
    "                cursor.execute(sql, (ESSN, PNO, HOURS,))\n",
    "        elif operation == 'DELETE':\n",
    "            if table_name == 'Project':\n",
    "                PNAME = request.form.get('pro_PNAME')\n",
    "                PNUMBER = request.form.get('pro_PNUMBER')\n",
    "                PLOCATION = request.form.get('pro_PLOCATION')\n",
    "                DNUM = request.form.get('pro_DNUM')                \n",
    "                sql = 'DELETE FROM Project WHERE PANME=? and PNUMBER=? and PLOCATION=? and DNUM=?;'\n",
    "                cursor.execute(sql, (PNAME, PNUMBER, PLOCATION, DNUM))\n",
    "            elif table_name == 'WORKS_ON':\n",
    "                ESSN = request.form.get('work_ESSN')\n",
    "                PNO = request.form.get('work_PNO')\n",
    "                HOURS = request.form.get('work_HOURS')\n",
    "                sql = 'DELETE FROM WORKS_ON WHERE ESSN=? and PNO=? and HOURS=?;'\n",
    "                cursor.execute(sql, (ESSN, PNO, HOURS,))\n",
    "        cursor.close()\n",
    "        conn.commit()\n",
    "        conn.close()\n",
    "    return redirect('/data')"
   ]
  },
  {
   "cell_type": "code",
   "execution_count": null,
   "metadata": {
    "slideshow": {
     "slide_type": "subslide"
    }
   },
   "outputs": [],
   "source": [
    "@app.route('/modify', methods=['POST'])\n",
    "def modify():\n",
    "    if request.method == 'POST':\n",
    "        table_name = request.form.get('table_name')\n",
    "        operation = request.form.get('operation')\n",
    "        conn = sqlite3.connect('./data.sqlite')\n",
    "        cursor = conn.cursor()"
   ]
  },
  {
   "cell_type": "code",
   "execution_count": null,
   "metadata": {
    "slideshow": {
     "slide_type": "subslide"
    }
   },
   "outputs": [],
   "source": [
    "if operation == 'INSERT':\n",
    "    \n",
    "    do something here\n",
    "    \n",
    "elif operation == 'DELETE':\n",
    "    \n",
    "    do something here"
   ]
  },
  {
   "cell_type": "code",
   "execution_count": null,
   "metadata": {
    "slideshow": {
     "slide_type": "subslide"
    }
   },
   "outputs": [],
   "source": [
    "if table_name == 'Project':\n",
    "                PNAME = request.form.get('pro_PNAME')\n",
    "                PNUMBER = request.form.get('pro_PNUMBER')\n",
    "                PLOCATION = request.form.get('pro_PLOCATION')\n",
    "                DNUM = request.form.get('pro_DNUM')\n",
    "                #insecure\n",
    "                #sql = cursor.execute('INSERT INTO WORKS_ON (PNAME, PNNUMBER, PLOCATION, DNUM) VALUES (%s, %s, %s);' % (PNAME, PNUMBER, PLOCATION, DNUM))\n",
    "                sql = 'INSERT INTO Project (PANME, PNUMBER, PLOCATION, DNUM) VALUES (?, ?, ?, ?);'\n",
    "                cursor.execute(sql, (PNAME, PNUMBER, PLOCATION, DNUM))"
   ]
  },
  {
   "cell_type": "markdown",
   "metadata": {
    "slideshow": {
     "slide_type": "slide"
    }
   },
   "source": [
    "## UPDATE"
   ]
  },
  {
   "cell_type": "code",
   "execution_count": null,
   "metadata": {
    "slideshow": {
     "slide_type": "subslide"
    }
   },
   "outputs": [],
   "source": [
    "@app.route('/data_update')\n",
    "def data_update():\n",
    "    return render_template('data_update.html')\n"
   ]
  },
  {
   "cell_type": "code",
   "execution_count": null,
   "metadata": {
    "slideshow": {
     "slide_type": "subslide"
    }
   },
   "outputs": [],
   "source": [
    "def update():\n",
    "    \n",
    "    if request.method == 'POST':\n",
    "        table_name = request.form.get('table_name')\n",
    "        operation = request.form.get('operation')\n",
    "        conn = sqlite3.connect('./data.sqlite')\n",
    "        cursor = conn.cursor()\n",
    "        \n",
    "        if table_name == 'Project':\n",
    "            PNAME = request.form.get('pro_PNAME')\n",
    "            PNUMBER = request.form.get('pro_PNUMBER')\n",
    "            PLOCATION = request.form.get('pro_PLOCATION')\n",
    "            DNUM = request.form.get('pro_DNUM')\n",
    "            rowid = request.form.get('pro_rowid')\n",
    "            sql = 'UPDATE Project SET PANME = ?, PNUMBER = ?, PLOCATION = ?, DNUM = ? WHERE rowid = ?'\n",
    "            cursor.execute(sql, (PNAME, PNUMBER, PLOCATION, DNUM, rowid,))\n",
    "            \n",
    "        elif table_name == 'WORKS_ON':\n",
    "            ESSN = request.form.get('work_ESSN')\n",
    "            PNO = request.form.get('work_PNO')\n",
    "            HOURS = request.form.get('work_HOURS')\n",
    "            rowid = request.form.get('work_rowid')\n",
    "            sql = 'UPDATE WORKS_ON SET ESSN = ?, PNO = ?, HOURS = ? WHERE rowid = ?'\n",
    "            cursor.execute(sql, (ESSN, PNO, HOURS, rowid,))\n",
    "    cursor.close()\n",
    "    conn.commit()\n",
    "    conn.close()    \n",
    "    return redirect('/data_update')"
   ]
  }
 ],
 "metadata": {
  "celltoolbar": "Slideshow",
  "kernelspec": {
   "display_name": "Python 3",
   "language": "python",
   "name": "python3"
  },
  "language_info": {
   "codemirror_mode": {
    "name": "ipython",
    "version": 3
   },
   "file_extension": ".py",
   "mimetype": "text/x-python",
   "name": "python",
   "nbconvert_exporter": "python",
   "pygments_lexer": "ipython3",
   "version": "3.6.4"
  }
 },
 "nbformat": 4,
 "nbformat_minor": 2
}
